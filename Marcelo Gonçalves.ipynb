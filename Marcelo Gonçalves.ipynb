{
  "metadata": {
    "language_info": {
      "codemirror_mode": {
        "name": "python",
        "version": 3
      },
      "file_extension": ".py",
      "mimetype": "text/x-python",
      "name": "python",
      "nbconvert_exporter": "python",
      "pygments_lexer": "ipython3",
      "version": "3.8"
    },
    "kernelspec": {
      "name": "python",
      "display_name": "Pyolite",
      "language": "python"
    }
  },
  "nbformat_minor": 4,
  "nbformat": 4,
  "cells": [
    {
      "cell_type": "markdown",
      "source": "# My Jupyter Notebook on IBM Watson Studio",
      "metadata": {}
    },
    {
      "cell_type": "markdown",
      "source": "**Marcelo Henrique Sousa Gonçalves**",
      "metadata": {}
    },
    {
      "cell_type": "markdown",
      "source": "100% Human",
      "metadata": {}
    },
    {
      "cell_type": "markdown",
      "source": "_I am interested in data science because i wanna improve the results on my job_",
      "metadata": {}
    },
    {
      "cell_type": "markdown",
      "source": "## The following code returns to the user the conversion of float numbers to integers",
      "metadata": {}
    },
    {
      "cell_type": "code",
      "source": "r1 = 3.9\nr2 = 5.37\n\ni_r1 = int(r1)\ni_r2 = int(r2)\n\nprint(i_r1)\nprint(i_r2)",
      "metadata": {
        "trusted": true
      },
      "execution_count": 14,
      "outputs": [
        {
          "name": "stdout",
          "text": "3\n5\n",
          "output_type": "stream"
        }
      ]
    },
    {
      "cell_type": "markdown",
      "source": "~~Marcelo Gonçalves~~ \n\"\"Marcelo Gonçalves\"\"\n- 33 years old\n- From Brazil\n",
      "metadata": {}
    }
  ]
}